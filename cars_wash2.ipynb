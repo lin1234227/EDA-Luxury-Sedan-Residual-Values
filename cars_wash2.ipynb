{
 "cells": [
  {
   "cell_type": "code",
   "execution_count": 2,
   "metadata": {
    "collapsed": true
   },
   "outputs": [],
   "source": [
    "import os\n",
    "import pandas as pd"
   ]
  },
  {
   "cell_type": "code",
   "execution_count": 6,
   "metadata": {
    "collapsed": false
   },
   "outputs": [],
   "source": [
    "base1 = pd.read_csv(\"./dataset/acura_ILX.csv\", index_col=0)\n",
    "for file in os.listdir(\"./dataset/\"):\n",
    "    if file !=\".DS_Store\" and file!=\"acura_ILX.csv\":\n",
    "        base1 = base1.append(pd.read_csv(\"./dataset/\"+file, index_col = 0))"
   ]
  },
  {
   "cell_type": "code",
   "execution_count": 7,
   "metadata": {
    "collapsed": false
   },
   "outputs": [
    {
     "data": {
      "text/plain": [
       "90125"
      ]
     },
     "execution_count": 7,
     "metadata": {},
     "output_type": "execute_result"
    }
   ],
   "source": [
    "len(base1)"
   ]
  },
  {
   "cell_type": "code",
   "execution_count": 9,
   "metadata": {
    "collapsed": false
   },
   "outputs": [],
   "source": [
    "base1.to_csv(\"./dataset/summary.csv\")"
   ]
  },
  {
   "cell_type": "code",
   "execution_count": 32,
   "metadata": {
    "collapsed": false
   },
   "outputs": [
    {
     "name": "stdout",
     "output_type": "stream",
     "text": [
      "acura_RLX.csv\n",
      "acura_TLX.csv\n",
      "audi_A4.csv\n",
      "audi_A6.csv\n",
      "audi_A8.csv\n",
      "benz_C.csv\n",
      "benz_E.csv\n",
      "benz_S.csv\n",
      "BMW_3.csv\n",
      "BMW_5.csv\n",
      "BMW_7.csv\n",
      "infinity_Q50.csv\n",
      "infinity_Q70.csv\n",
      "lexus_ES.csv\n",
      "lexus_GS.csv\n",
      "lexus_IS.csv\n",
      "lexus_LS.csv\n"
     ]
    }
   ],
   "source": [
    "base = pd.read_csv(\"./washed/acura_ILX.csv\", index_col = 0)\n",
    "for file in os.listdir(\"./washed/\"):\n",
    "    if file !=\".DS_Store\" and file!=\"acura_ILX.csv\" and file!=\"summary.csv\":\n",
    "        base = base.append(pd.read_csv(\"./washed/\"+file, index_col = 0))\n",
    "        print file"
   ]
  },
  {
   "cell_type": "code",
   "execution_count": 34,
   "metadata": {
    "collapsed": false
   },
   "outputs": [],
   "source": [
    "len(base)\n",
    "base.to_csv(\"./washed/summary.csv\")"
   ]
  },
  {
   "cell_type": "code",
   "execution_count": 35,
   "metadata": {
    "collapsed": false
   },
   "outputs": [
    {
     "data": {
      "text/plain": [
       "88211"
      ]
     },
     "execution_count": 35,
     "metadata": {},
     "output_type": "execute_result"
    }
   ],
   "source": [
    "base = pd.read_csv(\"./washed/summary.csv\", index_col = 0)\n",
    "len(base)"
   ]
  },
  {
   "cell_type": "code",
   "execution_count": 30,
   "metadata": {
    "collapsed": true
   },
   "outputs": [],
   "source": [
    "base = pd.read_csv(\"./washed/audi_A8.csv\", index_col=0)"
   ]
  },
  {
   "cell_type": "code",
   "execution_count": 31,
   "metadata": {
    "collapsed": false
   },
   "outputs": [],
   "source": [
    "base['brand']='Audi'\n",
    "base['model']='A8'"
   ]
  },
  {
   "cell_type": "code",
   "execution_count": 43,
   "metadata": {
    "collapsed": false
   },
   "outputs": [],
   "source": [
    "base.to_csv(\"./washed/summary.csv\")"
   ]
  },
  {
   "cell_type": "code",
   "execution_count": 11,
   "metadata": {
    "collapsed": false
   },
   "outputs": [
    {
     "data": {
      "text/plain": [
       "188994"
      ]
     },
     "execution_count": 11,
     "metadata": {},
     "output_type": "execute_result"
    }
   ],
   "source": [
    "len(base)"
   ]
  },
  {
   "cell_type": "code",
   "execution_count": 2,
   "metadata": {
    "collapsed": true
   },
   "outputs": [],
   "source": [
    "base = pd.read_csv(\"./washed/summary.csv\", index_col=0)"
   ]
  },
  {
   "cell_type": "code",
   "execution_count": null,
   "metadata": {
    "collapsed": true
   },
   "outputs": [],
   "source": []
  }
 ],
 "metadata": {
  "kernelspec": {
   "display_name": "Python 2",
   "language": "python",
   "name": "python2"
  },
  "language_info": {
   "codemirror_mode": {
    "name": "ipython",
    "version": 2
   },
   "file_extension": ".py",
   "mimetype": "text/x-python",
   "name": "python",
   "nbconvert_exporter": "python",
   "pygments_lexer": "ipython2",
   "version": "2.7.13"
  }
 },
 "nbformat": 4,
 "nbformat_minor": 2
}
