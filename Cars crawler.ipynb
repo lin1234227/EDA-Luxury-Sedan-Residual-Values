{
 "cells": [
  {
   "cell_type": "code",
   "execution_count": 88,
   "metadata": {
    "collapsed": false
   },
   "outputs": [],
   "source": [
    "# -*- coding:utf-8 -*-\n",
    "import urllib\n",
    "import urllib2\n",
    "import re\n",
    "import pandas as pd\n",
    "def getPage(curr_url):\n",
    "    try:\n",
    "        request = urllib2.Request(curr_url)\n",
    "        response = urllib2.urlopen(request)\n",
    "        return response.read()\n",
    "    except urllib2.URLError, e:\n",
    "        if hasattr(e,\"reason\"):\n",
    "            print u'cannot connect to cars',e.reason\n",
    "            return None\n",
    "def get_cars(curr_page):\n",
    "    car_list_temp = []\n",
    "    pattern = re.compile(\"data-goto-vdp=.(.*?). data.*?\"\n",
    "                         \"standard-link=.md-ymmt.>\\n                        (.*?)\\n                    </a>.*?</sup>(.*?)\\n.*?</span>.*?row__mileage..(.*?) mi\"+\\\n",
    "                         \".*?<div class=.listing-row__meta-item.>(.*?)</div>\"+\\\n",
    "                         \".*?<div class=.listing-row__meta-item.>(.*?)</div>\"+\\\n",
    "                         \".*?phone-control.>\\n(.*?)\\n                            </span>\", re.S)\n",
    "    result = re.findall(pattern, curr_page)\n",
    "    #print result\n",
    "    for i in range(0, len(result)):\n",
    "        new_car = car(result[i][0], result[i][1], result[i][2], result[i][3], result[i][4], result[i][5], result[i][6])\n",
    "        new_car.dealer_location(curr_page)\n",
    "        car_list_temp.append(new_car)\n",
    "    return car_list_temp\n",
    "class car:\n",
    "    def __init__(self, ID, name, price, miles, looking, powertrain, phone):\n",
    "        self.id = int(ID)\n",
    "        self.name = name\n",
    "        self.price = int(price.replace(\",\", \"\"))\n",
    "        self.miles = int(miles.replace(\",\", \"\"))\n",
    "        self.looking = looking\n",
    "        self.powertrain = powertrain\n",
    "        temp = phone.replace(\" \", \"\")\n",
    "        temp = \"\\\\\"+temp[:5] +\" \"+temp[5:]\n",
    "        self.phone = temp[:5] +\"\\\\\"+temp[5:]\n",
    "    def show(self):\n",
    "        print \"id:\", self.id\n",
    "        print \"name:\", self.name\n",
    "        print \"price:\", self.price\n",
    "        print \"miles:\", self.miles\n",
    "        print \"looking:\", self.looking\n",
    "        print \"powertrain:\", self.powertrain\n",
    "        print \"phone:\", self.phone\n",
    "        print \"state:\", self.state\n",
    "    def dealer_location(self, page):\n",
    "        find_string = \"telephone.:.\" + self.phone+\".*?addressRegion.:.(.*?).,\"\n",
    "        location_pattern = re.compile(find_string, re.S)\n",
    "        result = re.findall(location_pattern, page)\n",
    "        self.state = result[0]\n",
    "    def to_dict(self):\n",
    "        curr_dict = {\n",
    "            'id' : self.id,\n",
    "            'name' : self.name,\n",
    "            'price' : self.price,\n",
    "            'miles' : self.miles,\n",
    "            'looking' : self.looking,\n",
    "            'powertrain' : self.powertrain,\n",
    "            'state' : self.state\n",
    "        }\n",
    "        return curr_dict\n",
    "class car_set:\n",
    "    def __init__(self, baseUrl, pageNum):\n",
    "        self.car_list = []\n",
    "        self.baseURL = baseUrl\n",
    "        self.pageNum = int(pageNum)\n",
    "        self.basePage = getPage(self.baseURL)\n",
    "        self.page_list = self.setPageList()\n",
    "        \n",
    "        for j in range(0, len(self.page_list)):\n",
    "            print j\n",
    "            if j==36 or j==38:\n",
    "                continue\n",
    "            curr_page = getPage(self.page_list[j])\n",
    "            self.car_list = self.car_list + get_cars(curr_page)\n",
    "    def setPageList(self):\n",
    "        self.page_list = []\n",
    "        self.page_list.append(self.baseURL)\n",
    "        for i in range(2, self.pageNum+1):\n",
    "            new_page = self.baseURL.replace(\"page=1\", \"page=\"+str(i))\n",
    "            self.page_list.append(new_page)\n",
    "        return self.page_list\n",
    "    def dic_list(self):\n",
    "        dict_list=[]\n",
    "        for i in range(0, len(self.car_list)):\n",
    "            dict_list.append(self.car_list[i].to_dict())"
   ]
  },
  {
   "cell_type": "code",
   "execution_count": 89,
   "metadata": {
    "collapsed": false,
    "scrolled": false
   },
   "outputs": [
    {
     "name": "stdout",
     "output_type": "stream",
     "text": [
      "input the url: https://www.cars.com/for-sale/searchresults.action/?mdId=21906&mkId=20028&page=1&perPage=100&rd=99999&searchSource=GN_REFINEMENT&sf1Dir=DESC&sf1Nm=price&slrTypeId=28878&stkTypId=28881&zc=60606\n",
      "how many pages? 39\n",
      "0\n",
      "1\n",
      "2\n",
      "3\n",
      "4\n",
      "5\n",
      "6\n",
      "7\n",
      "8\n",
      "9\n",
      "10\n",
      "11\n",
      "12\n",
      "13\n",
      "14\n",
      "15\n",
      "16\n",
      "17\n",
      "18\n",
      "19\n",
      "20\n",
      "21\n",
      "22\n",
      "23\n",
      "24\n",
      "25\n",
      "26\n",
      "27\n",
      "28\n",
      "29\n",
      "30\n",
      "31\n",
      "32\n",
      "33\n",
      "34\n",
      "35\n",
      "36\n",
      "37\n",
      "38\n"
     ]
    }
   ],
   "source": [
    "baseURL = raw_input(\"input the url: \")\n",
    "pageNum = raw_input(\"how many pages? \")\n",
    "my_set = car_set(baseURL, pageNum)\n",
    "dict_list=[]\n",
    "for i in range(0, len(my_set.car_list)):\n",
    "    dict_list.append(my_set.car_list[i].to_dict())\n",
    "acura_df = pd.DataFrame(dict_list)"
   ]
  },
  {
   "cell_type": "code",
   "execution_count": 90,
   "metadata": {
    "collapsed": false
   },
   "outputs": [
    {
     "name": "stdout",
     "output_type": "stream",
     "text": [
      "3536\n",
      "3536\n"
     ]
    }
   ],
   "source": [
    "print len(acura_df)\n",
    "print len(acura_df.id.unique())"
   ]
  },
  {
   "cell_type": "code",
   "execution_count": 91,
   "metadata": {
    "collapsed": false
   },
   "outputs": [
    {
     "data": {
      "text/html": [
       "<div>\n",
       "<table border=\"1\" class=\"dataframe\">\n",
       "  <thead>\n",
       "    <tr style=\"text-align: right;\">\n",
       "      <th></th>\n",
       "      <th>id</th>\n",
       "      <th>looking</th>\n",
       "      <th>miles</th>\n",
       "      <th>name</th>\n",
       "      <th>powertrain</th>\n",
       "      <th>price</th>\n",
       "      <th>state</th>\n",
       "    </tr>\n",
       "  </thead>\n",
       "  <tbody>\n",
       "    <tr>\n",
       "      <th>0</th>\n",
       "      <td>699339412</td>\n",
       "      <td>Iridium Silver Metallic (ext) | Black (int)</td>\n",
       "      <td>173</td>\n",
       "      <td>Used 2015 Mercedes-Benz S65 AMG</td>\n",
       "      <td>7-Speed Automatic | RWD</td>\n",
       "      <td>193500</td>\n",
       "      <td>CA</td>\n",
       "    </tr>\n",
       "    <tr>\n",
       "      <th>1</th>\n",
       "      <td>698280411</td>\n",
       "      <td>Black (ext) | Designo Porcelain (int)</td>\n",
       "      <td>463</td>\n",
       "      <td>Used 2015 Mercedes-Benz S65 AMG</td>\n",
       "      <td>7-Speed Automatic | RWD</td>\n",
       "      <td>179888</td>\n",
       "      <td>CA</td>\n",
       "    </tr>\n",
       "    <tr>\n",
       "      <th>2</th>\n",
       "      <td>697662693</td>\n",
       "      <td>Iridium Silver (ext) | Designo Black Exclusive...</td>\n",
       "      <td>9149</td>\n",
       "      <td>Certified 2015 Mercedes-Benz S65C</td>\n",
       "      <td>7-SPEED AUTOMATIC | RWD</td>\n",
       "      <td>169872</td>\n",
       "      <td>VA</td>\n",
       "    </tr>\n",
       "    <tr>\n",
       "      <th>3</th>\n",
       "      <td>696463973</td>\n",
       "      <td>Designo Diamond White Metallic (ext) | Designo...</td>\n",
       "      <td>2067</td>\n",
       "      <td>Used 2015 Mercedes-Benz S65 AMG</td>\n",
       "      <td>7-Speed Automatic | RWD</td>\n",
       "      <td>166900</td>\n",
       "      <td>NY</td>\n",
       "    </tr>\n",
       "    <tr>\n",
       "      <th>4</th>\n",
       "      <td>697860102</td>\n",
       "      <td>Designo Magno Alanite Gray (ext) | Black (int)</td>\n",
       "      <td>7614</td>\n",
       "      <td>Used 2015 Mercedes-Benz S65 AMG</td>\n",
       "      <td>7-Speed Automatic | RWD</td>\n",
       "      <td>165500</td>\n",
       "      <td>GA</td>\n",
       "    </tr>\n",
       "  </tbody>\n",
       "</table>\n",
       "</div>"
      ],
      "text/plain": [
       "          id                                            looking  miles  \\\n",
       "0  699339412        Iridium Silver Metallic (ext) | Black (int)    173   \n",
       "1  698280411              Black (ext) | Designo Porcelain (int)    463   \n",
       "2  697662693  Iridium Silver (ext) | Designo Black Exclusive...   9149   \n",
       "3  696463973  Designo Diamond White Metallic (ext) | Designo...   2067   \n",
       "4  697860102     Designo Magno Alanite Gray (ext) | Black (int)   7614   \n",
       "\n",
       "                                name               powertrain   price state  \n",
       "0    Used 2015 Mercedes-Benz S65 AMG  7-Speed Automatic | RWD  193500    CA  \n",
       "1    Used 2015 Mercedes-Benz S65 AMG  7-Speed Automatic | RWD  179888    CA  \n",
       "2  Certified 2015 Mercedes-Benz S65C  7-SPEED AUTOMATIC | RWD  169872    VA  \n",
       "3    Used 2015 Mercedes-Benz S65 AMG  7-Speed Automatic | RWD  166900    NY  \n",
       "4    Used 2015 Mercedes-Benz S65 AMG  7-Speed Automatic | RWD  165500    GA  "
      ]
     },
     "execution_count": 91,
     "metadata": {},
     "output_type": "execute_result"
    }
   ],
   "source": [
    "acura_df.head()"
   ]
  },
  {
   "cell_type": "code",
   "execution_count": 92,
   "metadata": {
    "collapsed": false
   },
   "outputs": [],
   "source": [
    "acura_df.to_csv(\"./dataset/Benz_S.csv\")"
   ]
  },
  {
   "cell_type": "code",
   "execution_count": null,
   "metadata": {
    "collapsed": true
   },
   "outputs": [],
   "source": []
  }
 ],
 "metadata": {
  "kernelspec": {
   "display_name": "Python 2",
   "language": "python",
   "name": "python2"
  },
  "language_info": {
   "codemirror_mode": {
    "name": "ipython",
    "version": 2
   },
   "file_extension": ".py",
   "mimetype": "text/x-python",
   "name": "python",
   "nbconvert_exporter": "python",
   "pygments_lexer": "ipython2",
   "version": "2.7.13"
  }
 },
 "nbformat": 4,
 "nbformat_minor": 2
}
