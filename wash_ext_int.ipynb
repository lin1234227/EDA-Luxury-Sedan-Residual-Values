{
 "cells": [
  {
   "cell_type": "code",
   "execution_count": 1,
   "metadata": {
    "collapsed": true
   },
   "outputs": [],
   "source": [
    "import pandas as pd\n",
    "import re"
   ]
  },
  {
   "cell_type": "code",
   "execution_count": 12,
   "metadata": {
    "collapsed": false
   },
   "outputs": [],
   "source": [
    "cars = pd.read_csv(\"./washed/summary.csv\", index_col=0)"
   ]
  },
  {
   "cell_type": "code",
   "execution_count": 117,
   "metadata": {
    "collapsed": false
   },
   "outputs": [],
   "source": [
    "def give_tag(curr_string):\n",
    "    curr_string = str.lower(str(curr_string))\n",
    "    color_list = \"\"\n",
    "    if \"black\" in curr_string or \"graphite\" in curr_string or \"charcoal\" in curr_string or 'blak' in curr_string\\\n",
    "    or 'ebony' in curr_string:\n",
    "        color_list+=\"black_\"\n",
    "    if \"gray\" in curr_string or \"grey\" in curr_string:\n",
    "        color_list+=\"grey_\"\n",
    "    if \"silver\" in curr_string or \"metal\" in curr_string or \"slv\" in curr_string or \"aluminum\" in curr_string\\\n",
    "        or \"steel\" in curr_string or \"grigio\" in curr_string or \"Slate\" in curr_string:\n",
    "        color_list+=\"silver_\"\n",
    "    if \"white\" in curr_string or \"whtie\" in curr_string or \"ivory\" in curr_string or \"wehite\" in \\\n",
    "    curr_string or \"pewter\" in curr_string or \"cashmere\" in curr_string:\n",
    "        color_list+=\"white_\"\n",
    "    if \"blue\" in curr_string or \"navybl\" in curr_string or 'sea' in curr_string:\n",
    "        color_list+=\"blue_\"\n",
    "    if \"red\" in curr_string or \"crimson\" in curr_string:\n",
    "        color_list+=\"red_\"  \n",
    "    if \"brown\" in curr_string or \"tan\" in curr_string or \\\n",
    "    \"caramel\" in curr_string or \"brick\" in curr_string or \"chocolate\" in curr_string \\\n",
    "    or 'saddle' in curr_string or \"espresso\" in curr_string:\n",
    "        color_list+=\"brown_\"  \n",
    "    if \"maroon\" in curr_string or \"burgundy\" in curr_string or \"cherry\" in curr_string or 'rose' in curr_string:\n",
    "        color_list+=\"maroon_\" \n",
    "    if \"gold\" in curr_string:\n",
    "        color_list+=\"gold_\"  \n",
    "    if \"purple\" in curr_string:\n",
    "        color_list+=\"purple_\"\n",
    "    if \"green\" in curr_string or 'bamboo' in curr_string:\n",
    "        color_list+=\"green_\"\n",
    "    if \"yellow\" in curr_string or 'flaxen' in curr_string or 'lemon' in curr_string:\n",
    "        color_list+=\"yellow_\"  \n",
    "    if \"beige\" in curr_string or \"bege\" in curr_string or \"parchment\" in curr_string or \"ecru\" in curr_string:\n",
    "        color_list+=\"beige_\"\n",
    "    return color_list\n",
    "cars['tag_i']=cars['int'].apply(lambda x: give_tag(x))\n",
    "cars['tag_e']=cars['ext'].apply(lambda x: give_tag(x))"
   ]
  },
  {
   "cell_type": "code",
   "execution_count": 118,
   "metadata": {
    "collapsed": true
   },
   "outputs": [],
   "source": [
    "cars['ext_']=\"\"\n",
    "cars.loc[cars['tag_e']!=\"\", 'ext_']=cars['tag_e']"
   ]
  },
  {
   "cell_type": "code",
   "execution_count": 119,
   "metadata": {
    "collapsed": true
   },
   "outputs": [],
   "source": [
    "cars['int_']=\"\"\n",
    "cars.loc[cars['tag_i']!=\"\", 'int_']=cars['tag_i']"
   ]
  },
  {
   "cell_type": "code",
   "execution_count": 121,
   "metadata": {
    "collapsed": false
   },
   "outputs": [],
   "source": [
    "cars = cars.drop(['tag_i', 'tag_e'], axis=1)"
   ]
  },
  {
   "cell_type": "code",
   "execution_count": 123,
   "metadata": {
    "collapsed": false
   },
   "outputs": [
    {
     "data": {
      "text/plain": [
       "4864"
      ]
     },
     "execution_count": 123,
     "metadata": {},
     "output_type": "execute_result"
    }
   ],
   "source": [
    "len(cars[cars['ext_']==\"\"])"
   ]
  },
  {
   "cell_type": "code",
   "execution_count": 124,
   "metadata": {
    "collapsed": false
   },
   "outputs": [
    {
     "data": {
      "text/plain": [
       "17220"
      ]
     },
     "execution_count": 124,
     "metadata": {},
     "output_type": "execute_result"
    }
   ],
   "source": [
    "len(cars[cars['int_']==\"\"])"
   ]
  },
  {
   "cell_type": "code",
   "execution_count": 126,
   "metadata": {
    "collapsed": false
   },
   "outputs": [
    {
     "data": {
      "text/plain": [
       "1313"
      ]
     },
     "execution_count": 126,
     "metadata": {},
     "output_type": "execute_result"
    }
   ],
   "source": [
    "len(cars[(cars['int_']==\"\")&(cars['ext_']==\"\")])"
   ]
  },
  {
   "cell_type": "code",
   "execution_count": 127,
   "metadata": {
    "collapsed": false
   },
   "outputs": [
    {
     "data": {
      "text/plain": [
       "88211"
      ]
     },
     "execution_count": 127,
     "metadata": {},
     "output_type": "execute_result"
    }
   ],
   "source": [
    "len(cars)"
   ]
  },
  {
   "cell_type": "code",
   "execution_count": 128,
   "metadata": {
    "collapsed": true
   },
   "outputs": [],
   "source": [
    "cars.to_csv(\"./washed/summary.csv\")"
   ]
  },
  {
   "cell_type": "code",
   "execution_count": 129,
   "metadata": {
    "collapsed": false
   },
   "outputs": [
    {
     "data": {
      "text/plain": [
       "Index([u'id', u'miles', u'price', u'state', u'year', u'brand', u'model',\n",
       "       u'capacity', u'gearbox', u'dwheel', u'ext', u'int', u'Certified',\n",
       "       u'org_price', u'looking', u'powertrain', u'name', u'ext_', u'int_'],\n",
       "      dtype='object')"
      ]
     },
     "execution_count": 129,
     "metadata": {},
     "output_type": "execute_result"
    }
   ],
   "source": [
    "cars.columns"
   ]
  },
  {
   "cell_type": "code",
   "execution_count": null,
   "metadata": {
    "collapsed": true
   },
   "outputs": [],
   "source": []
  }
 ],
 "metadata": {
  "kernelspec": {
   "display_name": "Python 2",
   "language": "python",
   "name": "python2"
  },
  "language_info": {
   "codemirror_mode": {
    "name": "ipython",
    "version": 2
   },
   "file_extension": ".py",
   "mimetype": "text/x-python",
   "name": "python",
   "nbconvert_exporter": "python",
   "pygments_lexer": "ipython2",
   "version": "2.7.13"
  }
 },
 "nbformat": 4,
 "nbformat_minor": 2
}
