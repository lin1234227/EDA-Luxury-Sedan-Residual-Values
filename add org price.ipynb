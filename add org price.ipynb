{
 "cells": [
  {
   "cell_type": "code",
   "execution_count": 2,
   "metadata": {
    "collapsed": true
   },
   "outputs": [],
   "source": [
    "import pandas as pd\n",
    "import re"
   ]
  },
  {
   "cell_type": "code",
   "execution_count": 404,
   "metadata": {
    "collapsed": false
   },
   "outputs": [
    {
     "name": "stderr",
     "output_type": "stream",
     "text": [
      "/Users/bruceso/anaconda/lib/python2.7/site-packages/IPython/core/interactiveshell.py:2717: DtypeWarning: Columns (20) have mixed types. Specify dtype option on import or set low_memory=False.\n",
      "  interactivity=interactivity, compiler=compiler, result=result)\n"
     ]
    }
   ],
   "source": [
    "cars = pd.read_csv(\"./washed/summary.csv\", index_col=0)\n",
    "org_p = pd.read_csv(\"b_p.csv\")"
   ]
  },
  {
   "cell_type": "code",
   "execution_count": 389,
   "metadata": {
    "collapsed": false
   },
   "outputs": [],
   "source": [
    "cars = cars.drop('price_tag', axis=1)"
   ]
  },
  {
   "cell_type": "code",
   "execution_count": 427,
   "metadata": {
    "collapsed": false,
    "scrolled": false
   },
   "outputs": [],
   "source": [
    "cars.to_csv('./washed/summary.csv')"
   ]
  },
  {
   "cell_type": "code",
   "execution_count": 395,
   "metadata": {
    "collapsed": false,
    "scrolled": false
   },
   "outputs": [],
   "source": [
    "cars['price_tag']= cars['brand'].apply(lambda x: str(x))+\"_\"+cars['model'].apply(lambda x: str(x))+\"_\"+cars['year'].apply(lambda x: str(x))+\"_\"\\\n",
    "+cars['capacity'].apply(lambda x: str(x))+\"_\"+cars['true_model'].apply(lambda x: str(x))"
   ]
  },
  {
   "cell_type": "code",
   "execution_count": 424,
   "metadata": {
    "collapsed": false
   },
   "outputs": [
    {
     "name": "stdout",
     "output_type": "stream",
     "text": [
      "2116\n",
      "88211\n"
     ]
    }
   ],
   "source": [
    "print len(cars[cars['org_price'].isnull()])\n",
    "print len(cars)"
   ]
  },
  {
   "cell_type": "code",
   "execution_count": 426,
   "metadata": {
    "collapsed": false
   },
   "outputs": [
    {
     "data": {
      "text/plain": [
       "Index([u'id', u'miles', u'price', u'state', u'year', u'brand', u'model',\n",
       "       u'capacity', u'gearbox', u'dwheel', u'ext', u'int', u'Certified',\n",
       "       u'looking', u'powertrain', u'name', u'ext_', u'int_', u'org_price',\n",
       "       u'true_model', u'price_tag', u'price_t'],\n",
       "      dtype='object')"
      ]
     },
     "execution_count": 426,
     "metadata": {},
     "output_type": "execute_result"
    }
   ],
   "source": [
    "cars.columns"
   ]
  },
  {
   "cell_type": "code",
   "execution_count": 419,
   "metadata": {
    "collapsed": false
   },
   "outputs": [
    {
     "data": {
      "text/plain": [
       "array(['C', 'E', 'S', '7'], dtype=object)"
      ]
     },
     "execution_count": 419,
     "metadata": {},
     "output_type": "execute_result"
    }
   ],
   "source": [
    "cars[cars['org_price'].isnull()].model.unique()"
   ]
  },
  {
   "cell_type": "code",
   "execution_count": 416,
   "metadata": {
    "collapsed": true
   },
   "outputs": [],
   "source": [
    "cars.loc[cars['price_t'].notnull(), 'org_price']=cars['price_t']"
   ]
  },
  {
   "cell_type": "code",
   "execution_count": 373,
   "metadata": {
    "collapsed": false,
    "scrolled": false
   },
   "outputs": [],
   "source": [
    "temp = cars[cars['org_price'].isnull()]['price_tag']"
   ]
  },
  {
   "cell_type": "code",
   "execution_count": 374,
   "metadata": {
    "collapsed": false,
    "scrolled": false
   },
   "outputs": [],
   "source": [
    "temp=pd.DataFrame(temp.unique())"
   ]
  },
  {
   "cell_type": "code",
   "execution_count": 375,
   "metadata": {
    "collapsed": false,
    "scrolled": false
   },
   "outputs": [],
   "source": [
    "temp.to_csv(\"b_p.csv\")"
   ]
  },
  {
   "cell_type": "code",
   "execution_count": 322,
   "metadata": {
    "collapsed": false
   },
   "outputs": [
    {
     "data": {
      "text/plain": [
       "array(['Used 1995 Mercedes-Benz C220', 'Used 1998 Mercedes-Benz C230',\n",
       "       'Used 2003 Mercedes-Benz C240 4MATIC', ...,\n",
       "       'Used 2012 BMW 750 Alpina B7 xDrive SWB', 'Used 2008 BMW 750',\n",
       "       'Used 1996 BMW 740 iL'], dtype=object)"
      ]
     },
     "execution_count": 322,
     "metadata": {},
     "output_type": "execute_result"
    }
   ],
   "source": [
    "cars[cars['org_price'].isnull()].name.unique()"
   ]
  },
  {
   "cell_type": "code",
   "execution_count": 329,
   "metadata": {
    "collapsed": false
   },
   "outputs": [],
   "source": [
    "def find_model(curr):\n",
    "    if 'Benz' in curr:\n",
    "        if 'C220' in curr:\n",
    "            return 'C220'\n",
    "        if 'C230' in curr or 'C 230' in curr:\n",
    "            return 'C230'\n",
    "        if 'C240' in curr or 'C 240' in curr:\n",
    "            return 'C240'\n",
    "        if 'C250' in curr or 'C 25' in curr or 'C-25' in curr:\n",
    "            return 'C250'\n",
    "        if 'C280' in curr or 'C 280' in curr:\n",
    "            return 'C280'\n",
    "        if 'C32' in curr:\n",
    "            return 'C320'\n",
    "        if 'C 300' in curr or 'C300' in curr:\n",
    "            return 'C300'\n",
    "        if 'C350' in curr or 'C 350' in curr:\n",
    "            return 'C350'\n",
    "        if 'C400' in curr or 'C 400' in curr:\n",
    "            return 'C400'\n",
    "        if 'C43' in curr or 'C 43' in curr:\n",
    "            return 'C430'\n",
    "        if 'C45' in curr or 'C 45' in curr:\n",
    "            return 'C450'\n",
    "        if 'C55' in curr:\n",
    "            return 'C55'\n",
    "        if 'C63' in curr or 'C 63' in curr:\n",
    "            return 'C63'\n",
    "        \n",
    "        if 'E430' in curr or 'E 43' in curr:\n",
    "            return 'E430'\n",
    "        if 'E300' in curr or '300E' in curr or '300TE' in curr\\\n",
    "        or '300CE' in curr or '300D' in curr or '300CD' in curr or '300TD' in curr or\\\n",
    "        'E43' in curr:\n",
    "            return 'E300'\n",
    "        if 'E320' in curr or 'E 320' in curr:\n",
    "            return 'E320'\n",
    "        if 'E 350' in curr or 'E350' in curr:\n",
    "            return 'E350'\n",
    "        if 'E 300' in curr or 'E300' in curr:\n",
    "            return 'E300'\n",
    "        if 'E250' in curr or '250E' in curr or 'E 250' in curr:\n",
    "            return 'E250'\n",
    "        if 'E260' in curr:\n",
    "            return 'E260'\n",
    "        if 'E400' in curr or 'E 400' in curr:\n",
    "            return 'E400'\n",
    "        if 'E420' in curr:\n",
    "            return 'E420'\n",
    "        if 'E350' in curr:\n",
    "            return 'E350'\n",
    "        if 'E500' in curr or 'E 500' in curr:\n",
    "            return 'E500'\n",
    "        if 'E550' in curr or 'E 55' in curr or 'E55' in curr:\n",
    "            return 'E550'\n",
    "        if 'E63' in curr or 'E 63' in curr:\n",
    "            return 'E63'\n",
    "        \n",
    "        \n",
    "        if 'S320' in curr:\n",
    "            return 'S320'\n",
    "        if '350S' in curr or 'S350' in curr:\n",
    "            return 'C220'\n",
    "        if '380S' in curr:\n",
    "            return 'S380'\n",
    "        if '300S' in curr:\n",
    "            return 'S300'\n",
    "        if 'S400' in curr or 'S 400' in curr or '400S' in curr:\n",
    "            return 'S400'\n",
    "        if 'S420' in curr or 'S430' in curr or '420S' in curr:\n",
    "            return 'S420'\n",
    "        if 'S600' in curr or 'S 600' in curr:\n",
    "            return 'S600'\n",
    "        if '500S' in curr or 'S500' in curr  or 'S 500' in curr:\n",
    "            return 'S500'\n",
    "        if '560S' in curr:\n",
    "            return 'S560'\n",
    "        if 'S55' in curr:\n",
    "            return 'S550'\n",
    "        if 'S65' in curr or 'S 65' in curr:\n",
    "            return 'S65'\n",
    "        if 'S63' in curr or 'S 63' in curr:\n",
    "            return 'S63'\n",
    "        if 'S550' in curr or 'S 550' in curr:\n",
    "            return 'S550'\n",
    "        if '600S' in curr:\n",
    "            return 'S600'\n",
    "        if 'SL63' in curr:\n",
    "            return 'SL63'\n",
    "        \n",
    "    if 'BMW' in curr:\n",
    "        if '320' in curr:\n",
    "            return '320'\n",
    "        if '325' in curr:\n",
    "            return '325'\n",
    "        if '318' in curr:\n",
    "            return '318'\n",
    "        if '323' in curr:\n",
    "            return '323'\n",
    "        if '328' in curr:\n",
    "            return '328'\n",
    "        if '330' in curr:\n",
    "            return '330'\n",
    "        if '335' in curr:\n",
    "            return '335'\n",
    "        if '340' in curr:\n",
    "            return '340'   \n",
    "        \n",
    "        if '525' in curr:\n",
    "            return '525'\n",
    "        if '528' in curr:\n",
    "            return '528'\n",
    "        if '530' in curr:\n",
    "            return '530'\n",
    "        if '535' in curr:\n",
    "            return '535'\n",
    "        if '540' in curr:\n",
    "            return '540'\n",
    "        if '545' in curr:\n",
    "            return '545'\n",
    "        if '550' in curr:\n",
    "            return '550'\n",
    "        \n",
    "        if '740' in curr:\n",
    "            return '740'\n",
    "        if '745' in curr:\n",
    "            return '745'\n",
    "        if '750' in curr:\n",
    "            return '750'\n",
    "        if '760' in curr:\n",
    "            return '760'"
   ]
  },
  {
   "cell_type": "code",
   "execution_count": 330,
   "metadata": {
    "collapsed": false
   },
   "outputs": [],
   "source": [
    "cars['true_model']=cars['name'].apply(lambda x:find_model(x))"
   ]
  },
  {
   "cell_type": "code",
   "execution_count": 331,
   "metadata": {
    "collapsed": false,
    "scrolled": false
   },
   "outputs": [
    {
     "data": {
      "text/plain": [
       "array(['Acura', 'Audi', 'Benz', 'infinity', 'lexus'], dtype=object)"
      ]
     },
     "execution_count": 331,
     "metadata": {},
     "output_type": "execute_result"
    }
   ],
   "source": [
    "cars[(cars['true_model'].isnull())].brand.unique()"
   ]
  },
  {
   "cell_type": "code",
   "execution_count": 326,
   "metadata": {
    "collapsed": false,
    "scrolled": false
   },
   "outputs": [
    {
     "data": {
      "text/html": [
       "<div>\n",
       "<table border=\"1\" class=\"dataframe\">\n",
       "  <thead>\n",
       "    <tr style=\"text-align: right;\">\n",
       "      <th></th>\n",
       "      <th>name</th>\n",
       "      <th>true_model</th>\n",
       "    </tr>\n",
       "  </thead>\n",
       "  <tbody>\n",
       "    <tr>\n",
       "      <th>12456</th>\n",
       "      <td>Used 1995 Mercedes-Benz C220</td>\n",
       "      <td>C220</td>\n",
       "    </tr>\n",
       "    <tr>\n",
       "      <th>12457</th>\n",
       "      <td>Used 1998 Mercedes-Benz C230</td>\n",
       "      <td>C230</td>\n",
       "    </tr>\n",
       "    <tr>\n",
       "      <th>12458</th>\n",
       "      <td>Used 2003 Mercedes-Benz C240 4MATIC</td>\n",
       "      <td>C240</td>\n",
       "    </tr>\n",
       "    <tr>\n",
       "      <th>12459</th>\n",
       "      <td>Used 2002 Mercedes-Benz C230</td>\n",
       "      <td>C230</td>\n",
       "    </tr>\n",
       "    <tr>\n",
       "      <th>12460</th>\n",
       "      <td>Used 2004 Mercedes-Benz C240 4MATIC</td>\n",
       "      <td>C240</td>\n",
       "    </tr>\n",
       "    <tr>\n",
       "      <th>12461</th>\n",
       "      <td>Used 2003 Mercedes-Benz C240</td>\n",
       "      <td>C240</td>\n",
       "    </tr>\n",
       "    <tr>\n",
       "      <th>12462</th>\n",
       "      <td>Used 2002 Mercedes-Benz C240</td>\n",
       "      <td>C240</td>\n",
       "    </tr>\n",
       "    <tr>\n",
       "      <th>12463</th>\n",
       "      <td>Used 1994 Mercedes-Benz C220</td>\n",
       "      <td>C220</td>\n",
       "    </tr>\n",
       "    <tr>\n",
       "      <th>12464</th>\n",
       "      <td>Used 1999 Mercedes-Benz C230 Kompressor</td>\n",
       "      <td>C230</td>\n",
       "    </tr>\n",
       "    <tr>\n",
       "      <th>12465</th>\n",
       "      <td>Used 2000 Mercedes-Benz C230 Kompressor</td>\n",
       "      <td>C230</td>\n",
       "    </tr>\n",
       "    <tr>\n",
       "      <th>12466</th>\n",
       "      <td>Used 2001 Mercedes-Benz C240</td>\n",
       "      <td>C240</td>\n",
       "    </tr>\n",
       "    <tr>\n",
       "      <th>12467</th>\n",
       "      <td>Used 2000 Mercedes-Benz C230 Kompressor</td>\n",
       "      <td>C230</td>\n",
       "    </tr>\n",
       "    <tr>\n",
       "      <th>12468</th>\n",
       "      <td>Used 2002 Mercedes-Benz C230</td>\n",
       "      <td>C230</td>\n",
       "    </tr>\n",
       "    <tr>\n",
       "      <th>12469</th>\n",
       "      <td>Used 1999 Mercedes-Benz C280</td>\n",
       "      <td>C280</td>\n",
       "    </tr>\n",
       "    <tr>\n",
       "      <th>12470</th>\n",
       "      <td>Used 2000 Mercedes-Benz C230 Kompressor</td>\n",
       "      <td>C230</td>\n",
       "    </tr>\n",
       "    <tr>\n",
       "      <th>12471</th>\n",
       "      <td>Used 2000 Mercedes-Benz C280</td>\n",
       "      <td>C280</td>\n",
       "    </tr>\n",
       "    <tr>\n",
       "      <th>12472</th>\n",
       "      <td>Used 1999 Mercedes-Benz C280</td>\n",
       "      <td>C280</td>\n",
       "    </tr>\n",
       "    <tr>\n",
       "      <th>12473</th>\n",
       "      <td>Used 1994 Mercedes-Benz C280</td>\n",
       "      <td>C280</td>\n",
       "    </tr>\n",
       "    <tr>\n",
       "      <th>12474</th>\n",
       "      <td>Used 2000 Mercedes-Benz C230 Kompressor</td>\n",
       "      <td>C230</td>\n",
       "    </tr>\n",
       "    <tr>\n",
       "      <th>12475</th>\n",
       "      <td>Used 1999 Mercedes-Benz C280</td>\n",
       "      <td>C280</td>\n",
       "    </tr>\n",
       "    <tr>\n",
       "      <th>12476</th>\n",
       "      <td>Used 2000 Mercedes-Benz C230 Kompressor</td>\n",
       "      <td>C230</td>\n",
       "    </tr>\n",
       "    <tr>\n",
       "      <th>12477</th>\n",
       "      <td>Used 1997 Mercedes-Benz C280</td>\n",
       "      <td>C280</td>\n",
       "    </tr>\n",
       "    <tr>\n",
       "      <th>12478</th>\n",
       "      <td>Used 2002 Mercedes-Benz C230</td>\n",
       "      <td>C230</td>\n",
       "    </tr>\n",
       "    <tr>\n",
       "      <th>12479</th>\n",
       "      <td>Used 2001 Mercedes-Benz C320</td>\n",
       "      <td>C320</td>\n",
       "    </tr>\n",
       "    <tr>\n",
       "      <th>12480</th>\n",
       "      <td>Used 2000 Mercedes-Benz C230 Kompressor</td>\n",
       "      <td>C230</td>\n",
       "    </tr>\n",
       "    <tr>\n",
       "      <th>12481</th>\n",
       "      <td>Used 1999 Mercedes-Benz C280</td>\n",
       "      <td>C280</td>\n",
       "    </tr>\n",
       "    <tr>\n",
       "      <th>12482</th>\n",
       "      <td>Used 1999 Mercedes-Benz C230 Kompressor</td>\n",
       "      <td>C230</td>\n",
       "    </tr>\n",
       "    <tr>\n",
       "      <th>12483</th>\n",
       "      <td>Used 2007 Mercedes-Benz C280 4MATIC</td>\n",
       "      <td>C280</td>\n",
       "    </tr>\n",
       "    <tr>\n",
       "      <th>12484</th>\n",
       "      <td>Used 2007 Mercedes-Benz C230 Sport</td>\n",
       "      <td>C230</td>\n",
       "    </tr>\n",
       "    <tr>\n",
       "      <th>12485</th>\n",
       "      <td>Used 1997 Mercedes-Benz C230</td>\n",
       "      <td>C230</td>\n",
       "    </tr>\n",
       "    <tr>\n",
       "      <th>...</th>\n",
       "      <td>...</td>\n",
       "      <td>...</td>\n",
       "    </tr>\n",
       "    <tr>\n",
       "      <th>35584</th>\n",
       "      <td>Used 2000 Mercedes-Benz S500</td>\n",
       "      <td>S500</td>\n",
       "    </tr>\n",
       "    <tr>\n",
       "      <th>35585</th>\n",
       "      <td>Used 2000 Mercedes-Benz S430</td>\n",
       "      <td>S420</td>\n",
       "    </tr>\n",
       "    <tr>\n",
       "      <th>35586</th>\n",
       "      <td>Used 2000 Mercedes-Benz S430</td>\n",
       "      <td>S420</td>\n",
       "    </tr>\n",
       "    <tr>\n",
       "      <th>35587</th>\n",
       "      <td>Used 2002 Mercedes-Benz S500</td>\n",
       "      <td>S500</td>\n",
       "    </tr>\n",
       "    <tr>\n",
       "      <th>35588</th>\n",
       "      <td>Used 2001 Mercedes-Benz S600</td>\n",
       "      <td>S600</td>\n",
       "    </tr>\n",
       "    <tr>\n",
       "      <th>35589</th>\n",
       "      <td>Used 2002 Mercedes-Benz S430</td>\n",
       "      <td>S420</td>\n",
       "    </tr>\n",
       "    <tr>\n",
       "      <th>35590</th>\n",
       "      <td>Used 2005 Mercedes-Benz S430</td>\n",
       "      <td>S420</td>\n",
       "    </tr>\n",
       "    <tr>\n",
       "      <th>35591</th>\n",
       "      <td>Used 2005 Mercedes-Benz S430 4MATIC</td>\n",
       "      <td>S420</td>\n",
       "    </tr>\n",
       "    <tr>\n",
       "      <th>35592</th>\n",
       "      <td>Used 2005 Mercedes-Benz S430</td>\n",
       "      <td>S420</td>\n",
       "    </tr>\n",
       "    <tr>\n",
       "      <th>35593</th>\n",
       "      <td>Used 2001 Mercedes-Benz</td>\n",
       "      <td>None</td>\n",
       "    </tr>\n",
       "    <tr>\n",
       "      <th>35594</th>\n",
       "      <td>Used 2000 Mercedes-Benz S430</td>\n",
       "      <td>S420</td>\n",
       "    </tr>\n",
       "    <tr>\n",
       "      <th>35595</th>\n",
       "      <td>Used 1998 Mercedes-Benz S320</td>\n",
       "      <td>S320</td>\n",
       "    </tr>\n",
       "    <tr>\n",
       "      <th>35596</th>\n",
       "      <td>Used 2001 Mercedes-Benz S500</td>\n",
       "      <td>S500</td>\n",
       "    </tr>\n",
       "    <tr>\n",
       "      <th>35597</th>\n",
       "      <td>Used 1996 Mercedes-Benz S320</td>\n",
       "      <td>S320</td>\n",
       "    </tr>\n",
       "    <tr>\n",
       "      <th>35598</th>\n",
       "      <td>Used 2002 Mercedes-Benz S430</td>\n",
       "      <td>S420</td>\n",
       "    </tr>\n",
       "    <tr>\n",
       "      <th>35599</th>\n",
       "      <td>Used 1995 Mercedes-Benz S320</td>\n",
       "      <td>S320</td>\n",
       "    </tr>\n",
       "    <tr>\n",
       "      <th>35600</th>\n",
       "      <td>Used 2001 Mercedes-Benz S500</td>\n",
       "      <td>S500</td>\n",
       "    </tr>\n",
       "    <tr>\n",
       "      <th>35601</th>\n",
       "      <td>Used 1999 Mercedes-Benz S320</td>\n",
       "      <td>S320</td>\n",
       "    </tr>\n",
       "    <tr>\n",
       "      <th>35602</th>\n",
       "      <td>Used 1984 Mercedes-Benz 500SEL</td>\n",
       "      <td>S500</td>\n",
       "    </tr>\n",
       "    <tr>\n",
       "      <th>35603</th>\n",
       "      <td>Used 1983 Mercedes-Benz 380SEL</td>\n",
       "      <td>S380</td>\n",
       "    </tr>\n",
       "    <tr>\n",
       "      <th>35604</th>\n",
       "      <td>Used 1991 Mercedes-Benz 350SDL</td>\n",
       "      <td>C220</td>\n",
       "    </tr>\n",
       "    <tr>\n",
       "      <th>35605</th>\n",
       "      <td>Used 2011 Mercedes-Benz S 550</td>\n",
       "      <td>S550</td>\n",
       "    </tr>\n",
       "    <tr>\n",
       "      <th>35606</th>\n",
       "      <td>Used 2016 Mercedes-Benz SL63 AMG</td>\n",
       "      <td>SL63</td>\n",
       "    </tr>\n",
       "    <tr>\n",
       "      <th>35607</th>\n",
       "      <td>Used 2015 Mercedes-Benz S63 AMG</td>\n",
       "      <td>S63</td>\n",
       "    </tr>\n",
       "    <tr>\n",
       "      <th>35608</th>\n",
       "      <td>Used 2015 Mercedes-Benz S550 4MATIC</td>\n",
       "      <td>S55</td>\n",
       "    </tr>\n",
       "    <tr>\n",
       "      <th>35609</th>\n",
       "      <td>Used 2014 Mercedes-Benz S 550 4MATIC</td>\n",
       "      <td>S550</td>\n",
       "    </tr>\n",
       "    <tr>\n",
       "      <th>35610</th>\n",
       "      <td>Used 2012 Mercedes-Benz S550</td>\n",
       "      <td>S55</td>\n",
       "    </tr>\n",
       "    <tr>\n",
       "      <th>35611</th>\n",
       "      <td>Used 2009 Mercedes-Benz S550</td>\n",
       "      <td>S55</td>\n",
       "    </tr>\n",
       "    <tr>\n",
       "      <th>35612</th>\n",
       "      <td>Used 2007 Mercedes-Benz S550</td>\n",
       "      <td>S55</td>\n",
       "    </tr>\n",
       "    <tr>\n",
       "      <th>35613</th>\n",
       "      <td>Used 2009 Mercedes-Benz S550</td>\n",
       "      <td>S55</td>\n",
       "    </tr>\n",
       "  </tbody>\n",
       "</table>\n",
       "<p>23158 rows × 2 columns</p>\n",
       "</div>"
      ],
      "text/plain": [
       "                                          name true_model\n",
       "12456             Used 1995 Mercedes-Benz C220       C220\n",
       "12457             Used 1998 Mercedes-Benz C230       C230\n",
       "12458      Used 2003 Mercedes-Benz C240 4MATIC       C240\n",
       "12459             Used 2002 Mercedes-Benz C230       C230\n",
       "12460      Used 2004 Mercedes-Benz C240 4MATIC       C240\n",
       "12461             Used 2003 Mercedes-Benz C240       C240\n",
       "12462             Used 2002 Mercedes-Benz C240       C240\n",
       "12463             Used 1994 Mercedes-Benz C220       C220\n",
       "12464  Used 1999 Mercedes-Benz C230 Kompressor       C230\n",
       "12465  Used 2000 Mercedes-Benz C230 Kompressor       C230\n",
       "12466             Used 2001 Mercedes-Benz C240       C240\n",
       "12467  Used 2000 Mercedes-Benz C230 Kompressor       C230\n",
       "12468             Used 2002 Mercedes-Benz C230       C230\n",
       "12469             Used 1999 Mercedes-Benz C280       C280\n",
       "12470  Used 2000 Mercedes-Benz C230 Kompressor       C230\n",
       "12471             Used 2000 Mercedes-Benz C280       C280\n",
       "12472             Used 1999 Mercedes-Benz C280       C280\n",
       "12473             Used 1994 Mercedes-Benz C280       C280\n",
       "12474  Used 2000 Mercedes-Benz C230 Kompressor       C230\n",
       "12475             Used 1999 Mercedes-Benz C280       C280\n",
       "12476  Used 2000 Mercedes-Benz C230 Kompressor       C230\n",
       "12477             Used 1997 Mercedes-Benz C280       C280\n",
       "12478             Used 2002 Mercedes-Benz C230       C230\n",
       "12479             Used 2001 Mercedes-Benz C320       C320\n",
       "12480  Used 2000 Mercedes-Benz C230 Kompressor       C230\n",
       "12481             Used 1999 Mercedes-Benz C280       C280\n",
       "12482  Used 1999 Mercedes-Benz C230 Kompressor       C230\n",
       "12483      Used 2007 Mercedes-Benz C280 4MATIC       C280\n",
       "12484       Used 2007 Mercedes-Benz C230 Sport       C230\n",
       "12485             Used 1997 Mercedes-Benz C230       C230\n",
       "...                                        ...        ...\n",
       "35584             Used 2000 Mercedes-Benz S500       S500\n",
       "35585             Used 2000 Mercedes-Benz S430       S420\n",
       "35586             Used 2000 Mercedes-Benz S430       S420\n",
       "35587             Used 2002 Mercedes-Benz S500       S500\n",
       "35588             Used 2001 Mercedes-Benz S600       S600\n",
       "35589             Used 2002 Mercedes-Benz S430       S420\n",
       "35590             Used 2005 Mercedes-Benz S430       S420\n",
       "35591      Used 2005 Mercedes-Benz S430 4MATIC       S420\n",
       "35592             Used 2005 Mercedes-Benz S430       S420\n",
       "35593                  Used 2001 Mercedes-Benz       None\n",
       "35594             Used 2000 Mercedes-Benz S430       S420\n",
       "35595             Used 1998 Mercedes-Benz S320       S320\n",
       "35596             Used 2001 Mercedes-Benz S500       S500\n",
       "35597             Used 1996 Mercedes-Benz S320       S320\n",
       "35598             Used 2002 Mercedes-Benz S430       S420\n",
       "35599             Used 1995 Mercedes-Benz S320       S320\n",
       "35600             Used 2001 Mercedes-Benz S500       S500\n",
       "35601             Used 1999 Mercedes-Benz S320       S320\n",
       "35602           Used 1984 Mercedes-Benz 500SEL       S500\n",
       "35603           Used 1983 Mercedes-Benz 380SEL       S380\n",
       "35604           Used 1991 Mercedes-Benz 350SDL       C220\n",
       "35605            Used 2011 Mercedes-Benz S 550       S550\n",
       "35606         Used 2016 Mercedes-Benz SL63 AMG       SL63\n",
       "35607          Used 2015 Mercedes-Benz S63 AMG        S63\n",
       "35608      Used 2015 Mercedes-Benz S550 4MATIC        S55\n",
       "35609     Used 2014 Mercedes-Benz S 550 4MATIC       S550\n",
       "35610             Used 2012 Mercedes-Benz S550        S55\n",
       "35611             Used 2009 Mercedes-Benz S550        S55\n",
       "35612             Used 2007 Mercedes-Benz S550        S55\n",
       "35613             Used 2009 Mercedes-Benz S550        S55\n",
       "\n",
       "[23158 rows x 2 columns]"
      ]
     },
     "execution_count": 326,
     "metadata": {},
     "output_type": "execute_result"
    }
   ],
   "source": [
    "cars[(cars['brand']=='Benz')][['name','true_model']]"
   ]
  },
  {
   "cell_type": "code",
   "execution_count": null,
   "metadata": {
    "collapsed": true
   },
   "outputs": [],
   "source": []
  }
 ],
 "metadata": {
  "kernelspec": {
   "display_name": "Python 2",
   "language": "python",
   "name": "python2"
  },
  "language_info": {
   "codemirror_mode": {
    "name": "ipython",
    "version": 2
   },
   "file_extension": ".py",
   "mimetype": "text/x-python",
   "name": "python",
   "nbconvert_exporter": "python",
   "pygments_lexer": "ipython2",
   "version": "2.7.13"
  }
 },
 "nbformat": 4,
 "nbformat_minor": 2
}
