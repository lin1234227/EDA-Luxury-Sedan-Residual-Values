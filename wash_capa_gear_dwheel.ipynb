{
 "cells": [
  {
   "cell_type": "code",
   "execution_count": 1,
   "metadata": {
    "collapsed": true
   },
   "outputs": [],
   "source": [
    "import pandas as pd\n",
    "import re"
   ]
  },
  {
   "cell_type": "code",
   "execution_count": 415,
   "metadata": {
    "collapsed": false
   },
   "outputs": [],
   "source": [
    "cars = pd.read_csv(\"./washed/summary.csv\", index_col=0)\n",
    "#ori = pd.read_csv(\"./dataset/summary.csv\", index_col=0)\n",
    "#cars = cars.merge(ori[['id','name']], on='id')"
   ]
  },
  {
   "cell_type": "code",
   "execution_count": 440,
   "metadata": {
    "collapsed": true
   },
   "outputs": [],
   "source": [
    "brand='lexus'\n",
    "model='ES'"
   ]
  },
  {
   "cell_type": "code",
   "execution_count": 386,
   "metadata": {
    "collapsed": false,
    "scrolled": false
   },
   "outputs": [
    {
     "data": {
      "text/plain": [
       "array([ nan,  4.6])"
      ]
     },
     "execution_count": 386,
     "metadata": {},
     "output_type": "execute_result"
    }
   ],
   "source": [
    "cars[(cars['brand']==brand)&(cars['model']==model)].capacity.unique()"
   ]
  },
  {
   "cell_type": "code",
   "execution_count": 447,
   "metadata": {
    "collapsed": false
   },
   "outputs": [
    {
     "name": "stdout",
     "output_type": "stream",
     "text": [
      "id [False]\n",
      "miles [False]\n",
      "price [False]\n",
      "state [False]\n",
      "year [False]\n",
      "brand [False]\n",
      "model [False]\n",
      "capacity [False]\n",
      "gearbox [False]\n",
      "dwheel [False]\n",
      "ext [False True]\n",
      "int [True False]\n",
      "Certified [False]\n",
      "org_price [False]\n",
      "looking [False]\n",
      "powertrain [False]\n",
      "name [False]\n",
      "tag [False]\n"
     ]
    }
   ],
   "source": [
    "for i in cars.columns:\n",
    "    print i, cars[i].isnull().unique()"
   ]
  },
  {
   "cell_type": "code",
   "execution_count": 426,
   "metadata": {
    "collapsed": false
   },
   "outputs": [
    {
     "data": {
      "text/plain": [
       "array(['ES', 'IS', 'LS'], dtype=object)"
      ]
     },
     "execution_count": 426,
     "metadata": {},
     "output_type": "execute_result"
    }
   ],
   "source": [
    "cars[cars['gearbox'].isnull()]['model'].unique()"
   ]
  },
  {
   "cell_type": "markdown",
   "metadata": {},
   "source": [
    "## capacity"
   ]
  },
  {
   "cell_type": "code",
   "execution_count": 408,
   "metadata": {
    "collapsed": false
   },
   "outputs": [],
   "source": [
    "def give_tag(curr_string):\n",
    "    if \"600h\" in str.lower(curr_string):\n",
    "        return 1\n",
    "    else:\n",
    "        return 0\n",
    "cars['tag']=cars['name'].apply(lambda x:give_tag(x))"
   ]
  },
  {
   "cell_type": "code",
   "execution_count": 372,
   "metadata": {
    "collapsed": true
   },
   "outputs": [],
   "source": [
    "def find_capa_benz(curr_string):\n",
    "    pattern = re.compile(\"\\d\\d\\dSE\")\n",
    "    result = re.findall(pattern, curr_string)\n",
    "    if result:\n",
    "        return int(result[0][:-2])/100.0\n",
    "    else:\n",
    "        return \"\"\n",
    "cars['tag']=cars['name'].apply(lambda x: give_tag(x))"
   ]
  },
  {
   "cell_type": "code",
   "execution_count": 387,
   "metadata": {
    "collapsed": false
   },
   "outputs": [
    {
     "data": {
      "text/plain": [
       "array([2001, 2003, 2010, 2013, 2007, 2015, 2014, 2006, 2005, 2002, 2008,\n",
       "       2011, 2004, 2009, 2016, 2012, 2000, 1990, 1999, 1998, 1991, 1996,\n",
       "       1995, 1994, 2017, 1997, 1993])"
      ]
     },
     "execution_count": 387,
     "metadata": {},
     "output_type": "execute_result"
    }
   ],
   "source": [
    "cars[(cars['capacity'].isnull())&(cars['brand']==brand)&(cars['model']==model)].year.unique()"
   ]
  },
  {
   "cell_type": "code",
   "execution_count": 412,
   "metadata": {
    "collapsed": false,
    "scrolled": false
   },
   "outputs": [
    {
     "data": {
      "text/plain": [
       "array([], dtype=object)"
      ]
     },
     "execution_count": 412,
     "metadata": {},
     "output_type": "execute_result"
    }
   ],
   "source": [
    "cars[(cars['capacity'].isnull())&(cars['brand']==brand)&(cars['model']==model)].name.unique()"
   ]
  },
  {
   "cell_type": "code",
   "execution_count": 413,
   "metadata": {
    "collapsed": false,
    "scrolled": false
   },
   "outputs": [
    {
     "data": {
      "text/plain": [
       "array([], dtype=object)"
      ]
     },
     "execution_count": 413,
     "metadata": {},
     "output_type": "execute_result"
    }
   ],
   "source": [
    "cars[(cars['capacity'].isnull())&(cars['brand']==brand)&(cars['model']==model)&(cars['tag']==1)].name.unique()"
   ]
  },
  {
   "cell_type": "code",
   "execution_count": 411,
   "metadata": {
    "collapsed": false
   },
   "outputs": [],
   "source": [
    "cars.loc[(cars['capacity'].isnull())&(cars['brand']==brand)&(cars['model']==model)&(cars['tag']==1),'capacity']=5.0"
   ]
  },
  {
   "cell_type": "code",
   "execution_count": 24,
   "metadata": {
    "collapsed": true
   },
   "outputs": [],
   "source": [
    "cars.loc[(cars['brand']==brand)&(cars['model']==model)&(cars['capacity'].isnull())&(cars['year']==2016),'capacity']=2.0"
   ]
  },
  {
   "cell_type": "code",
   "execution_count": 544,
   "metadata": {
    "collapsed": false,
    "scrolled": false
   },
   "outputs": [
    {
     "data": {
      "text/plain": [
       "21"
      ]
     },
     "execution_count": 544,
     "metadata": {},
     "output_type": "execute_result"
    }
   ],
   "source": [
    "len(cars[(cars['capacity'].isnull())&(cars['brand']==brand)&(cars['model']==model)].capacity)"
   ]
  },
  {
   "cell_type": "code",
   "execution_count": 535,
   "metadata": {
    "collapsed": false
   },
   "outputs": [
    {
     "data": {
      "text/plain": [
       "array(['Used 2016 Mercedes-Benz', 'Used 2015 Mercedes-Benz',\n",
       "       'Used 2014 Mercedes-Benz', 'Used 2012 Mercedes-Benz Performance',\n",
       "       'Used 2011 Mercedes-Benz', 'Used 2009 Mercedes-Benz',\n",
       "       'Used 2010 Mercedes-Benz', 'Used 2008 Mercedes-Benz',\n",
       "       'Used 1987 Mercedes-Benz', 'Used 2005 Mercedes-Benz',\n",
       "       'Used 2001 Mercedes-Benz', 'Used 1993 Mercedes-Benz 300SD',\n",
       "       'Used 2000 Mercedes-Benz', 'Used 2002 Mercedes-Benz',\n",
       "       'Used 1991 Mercedes-Benz 350SDL'], dtype=object)"
      ]
     },
     "execution_count": 535,
     "metadata": {},
     "output_type": "execute_result"
    }
   ],
   "source": [
    "cars[(cars['capacity'].isnull())&(cars['brand']==brand)&(cars['model']==model)].name.unique()"
   ]
  },
  {
   "cell_type": "code",
   "execution_count": 362,
   "metadata": {
    "collapsed": false
   },
   "outputs": [
    {
     "data": {
      "text/plain": [
       "array(['Used 2008 Mercedes-Benz C350 Sport', 'Used 2008 Mercedes-Benz',\n",
       "       'Used 2008 Mercedes-Benz C 350 Sport',\n",
       "       'Used 2008 Mercedes-Benz SPORT',\n",
       "       'Used 2008 Mercedes-Benz CALL NOW 732-220-1444',\n",
       "       'Used 2008 Mercedes-Benz 4MATIC'], dtype=object)"
      ]
     },
     "execution_count": 362,
     "metadata": {},
     "output_type": "execute_result"
    }
   ],
   "source": [
    "cars[(cars['brand']==brand)&(cars['model']==model)&(cars['year']==2008)&(cars['capacity']==3.5)].name.unique()"
   ]
  },
  {
   "cell_type": "code",
   "execution_count": null,
   "metadata": {
    "collapsed": false
   },
   "outputs": [],
   "source": [
    "cars[(cars['brand']==brand)&(cars['model']==model)&(cars['name']=='Used 2005 Mercedes-Benz C240')]"
   ]
  },
  {
   "cell_type": "code",
   "execution_count": 534,
   "metadata": {
    "collapsed": false
   },
   "outputs": [],
   "source": [
    "cars.loc[(cars['capacity'].isnull())&(cars['brand']==brand)&(cars['model']==model)&(cars['tag']==1), 'capacity']=6.2\n",
    "#         &(cars['name']=='Used 2016 Mercedes-Benz C63 AMG'), 'capacity']=4.0"
   ]
  },
  {
   "cell_type": "code",
   "execution_count": 545,
   "metadata": {
    "collapsed": false,
    "scrolled": false
   },
   "outputs": [],
   "source": [
    "cars.loc[(cars['capacity'].isnull())&(cars['brand']==brand)&(cars['model']==model), 'capacity']=5.0"
   ]
  },
  {
   "cell_type": "markdown",
   "metadata": {},
   "source": [
    "## gearbox"
   ]
  },
  {
   "cell_type": "code",
   "execution_count": 441,
   "metadata": {
    "collapsed": false
   },
   "outputs": [
    {
     "data": {
      "text/plain": [
       "array(['auto', 'CVT', nan, 'auto|manual'], dtype=object)"
      ]
     },
     "execution_count": 441,
     "metadata": {},
     "output_type": "execute_result"
    }
   ],
   "source": [
    "cars[(cars['brand']==brand)&(cars['model']==model)].gearbox.unique()"
   ]
  },
  {
   "cell_type": "code",
   "execution_count": 442,
   "metadata": {
    "collapsed": false
   },
   "outputs": [
    {
     "data": {
      "text/html": [
       "<div>\n",
       "<table border=\"1\" class=\"dataframe\">\n",
       "  <thead>\n",
       "    <tr style=\"text-align: right;\">\n",
       "      <th></th>\n",
       "      <th>id</th>\n",
       "      <th>miles</th>\n",
       "      <th>price</th>\n",
       "      <th>state</th>\n",
       "      <th>year</th>\n",
       "      <th>brand</th>\n",
       "      <th>model</th>\n",
       "      <th>capacity</th>\n",
       "      <th>dwheel</th>\n",
       "      <th>ext</th>\n",
       "      <th>int</th>\n",
       "      <th>Certified</th>\n",
       "      <th>org_price</th>\n",
       "      <th>looking</th>\n",
       "      <th>powertrain</th>\n",
       "      <th>name</th>\n",
       "      <th>tag</th>\n",
       "    </tr>\n",
       "    <tr>\n",
       "      <th>gearbox</th>\n",
       "      <th></th>\n",
       "      <th></th>\n",
       "      <th></th>\n",
       "      <th></th>\n",
       "      <th></th>\n",
       "      <th></th>\n",
       "      <th></th>\n",
       "      <th></th>\n",
       "      <th></th>\n",
       "      <th></th>\n",
       "      <th></th>\n",
       "      <th></th>\n",
       "      <th></th>\n",
       "      <th></th>\n",
       "      <th></th>\n",
       "      <th></th>\n",
       "      <th></th>\n",
       "    </tr>\n",
       "  </thead>\n",
       "  <tbody>\n",
       "    <tr>\n",
       "      <th>CVT</th>\n",
       "      <td>51</td>\n",
       "      <td>51</td>\n",
       "      <td>51</td>\n",
       "      <td>51</td>\n",
       "      <td>51</td>\n",
       "      <td>51</td>\n",
       "      <td>51</td>\n",
       "      <td>51</td>\n",
       "      <td>51</td>\n",
       "      <td>51</td>\n",
       "      <td>51</td>\n",
       "      <td>51</td>\n",
       "      <td>51</td>\n",
       "      <td>51</td>\n",
       "      <td>51</td>\n",
       "      <td>51</td>\n",
       "      <td>51</td>\n",
       "    </tr>\n",
       "    <tr>\n",
       "      <th>auto</th>\n",
       "      <td>6273</td>\n",
       "      <td>6273</td>\n",
       "      <td>6273</td>\n",
       "      <td>6273</td>\n",
       "      <td>6273</td>\n",
       "      <td>6273</td>\n",
       "      <td>6273</td>\n",
       "      <td>6273</td>\n",
       "      <td>6273</td>\n",
       "      <td>6268</td>\n",
       "      <td>5362</td>\n",
       "      <td>6273</td>\n",
       "      <td>6273</td>\n",
       "      <td>6273</td>\n",
       "      <td>6273</td>\n",
       "      <td>6273</td>\n",
       "      <td>6273</td>\n",
       "    </tr>\n",
       "    <tr>\n",
       "      <th>auto|manual</th>\n",
       "      <td>37</td>\n",
       "      <td>37</td>\n",
       "      <td>37</td>\n",
       "      <td>37</td>\n",
       "      <td>37</td>\n",
       "      <td>37</td>\n",
       "      <td>37</td>\n",
       "      <td>37</td>\n",
       "      <td>37</td>\n",
       "      <td>37</td>\n",
       "      <td>34</td>\n",
       "      <td>37</td>\n",
       "      <td>37</td>\n",
       "      <td>37</td>\n",
       "      <td>37</td>\n",
       "      <td>37</td>\n",
       "      <td>37</td>\n",
       "    </tr>\n",
       "  </tbody>\n",
       "</table>\n",
       "</div>"
      ],
      "text/plain": [
       "               id  miles  price  state  year  brand  model  capacity  dwheel  \\\n",
       "gearbox                                                                        \n",
       "CVT            51     51     51     51    51     51     51        51      51   \n",
       "auto         6273   6273   6273   6273  6273   6273   6273      6273    6273   \n",
       "auto|manual    37     37     37     37    37     37     37        37      37   \n",
       "\n",
       "              ext   int  Certified  org_price  looking  powertrain  name   tag  \n",
       "gearbox                                                                         \n",
       "CVT            51    51         51         51       51          51    51    51  \n",
       "auto         6268  5362       6273       6273     6273        6273  6273  6273  \n",
       "auto|manual    37    34         37         37       37          37    37    37  "
      ]
     },
     "execution_count": 442,
     "metadata": {},
     "output_type": "execute_result"
    }
   ],
   "source": [
    "cars[(cars['brand']==brand)&(cars['model']==model)].groupby(['gearbox']).count()"
   ]
  },
  {
   "cell_type": "code",
   "execution_count": 443,
   "metadata": {
    "collapsed": false
   },
   "outputs": [
    {
     "data": {
      "text/plain": [
       "array(['Variable | FWD', '1-Speed Continuously Variable Ratio | FWD', 'a',\n",
       "       '1-Speed Variable', '1-Speed Continuously Variable Ratio',\n",
       "       'Continuously Variable Trans'], dtype=object)"
      ]
     },
     "execution_count": 443,
     "metadata": {},
     "output_type": "execute_result"
    }
   ],
   "source": [
    "cars[(cars['gearbox'].isnull())&(cars['brand']==brand)&(cars['model']==model)].powertrain.unique()"
   ]
  },
  {
   "cell_type": "code",
   "execution_count": 444,
   "metadata": {
    "collapsed": true
   },
   "outputs": [],
   "source": [
    "cars.loc[(cars['brand']==brand)&(cars['model']==model)&(cars['gearbox'].isnull()),'gearbox']='auto'"
   ]
  },
  {
   "cell_type": "code",
   "execution_count": 445,
   "metadata": {
    "collapsed": false
   },
   "outputs": [
    {
     "data": {
      "text/plain": [
       "6423"
      ]
     },
     "execution_count": 445,
     "metadata": {},
     "output_type": "execute_result"
    }
   ],
   "source": [
    "len(cars[(cars['brand']==brand)&(cars['model']==model)])"
   ]
  },
  {
   "cell_type": "code",
   "execution_count": 446,
   "metadata": {
    "collapsed": false
   },
   "outputs": [
    {
     "data": {
      "text/plain": [
       "0"
      ]
     },
     "execution_count": 446,
     "metadata": {},
     "output_type": "execute_result"
    }
   ],
   "source": [
    "len(cars[(cars['gearbox'].isnull())&(cars['brand']==brand)&(cars['model']==model)])"
   ]
  },
  {
   "cell_type": "code",
   "execution_count": 210,
   "metadata": {
    "collapsed": false
   },
   "outputs": [],
   "source": [
    "cars.loc[(cars['gearbox'].isnull())&(cars['brand']==brand)&(cars['model']==model),'gearbox']='auto'"
   ]
  },
  {
   "cell_type": "code",
   "execution_count": 105,
   "metadata": {
    "collapsed": false
   },
   "outputs": [],
   "source": [
    "cars.loc[(cars['gearbox'].isnull())&(cars['brand']==brand)&(cars['model']==model)&(cars['powertrain']=='Auyomatic-6 Speed | RWD'),'gearbox']='auto'"
   ]
  },
  {
   "cell_type": "markdown",
   "metadata": {},
   "source": [
    "## dwheel"
   ]
  },
  {
   "cell_type": "code",
   "execution_count": 381,
   "metadata": {
    "collapsed": false
   },
   "outputs": [
    {
     "data": {
      "text/plain": [
       "array(['RWD', 'AWD', 'FWD', '2WD'], dtype=object)"
      ]
     },
     "execution_count": 381,
     "metadata": {},
     "output_type": "execute_result"
    }
   ],
   "source": [
    "cars[(cars['brand']==brand)&(cars['model']==model)].dwheel.unique()"
   ]
  },
  {
   "cell_type": "code",
   "execution_count": 553,
   "metadata": {
    "collapsed": false
   },
   "outputs": [],
   "source": [
    "cars.loc[cars['dwheel']=='4WD', 'dwheel']='AWD'"
   ]
  },
  {
   "cell_type": "code",
   "execution_count": 554,
   "metadata": {
    "collapsed": false
   },
   "outputs": [
    {
     "data": {
      "text/plain": [
       "array([], dtype=int64)"
      ]
     },
     "execution_count": 554,
     "metadata": {},
     "output_type": "execute_result"
    }
   ],
   "source": [
    "cars[(cars['dwheel'].isnull())&(cars['brand']==brand)&(cars['model']==model)].year.unique()"
   ]
  },
  {
   "cell_type": "markdown",
   "metadata": {},
   "source": [
    "## Write"
   ]
  },
  {
   "cell_type": "code",
   "execution_count": 414,
   "metadata": {
    "collapsed": true
   },
   "outputs": [],
   "source": [
    "cars.to_csv('./washed/summary.csv')"
   ]
  },
  {
   "cell_type": "markdown",
   "metadata": {},
   "source": [
    "Finished Audi; need add price"
   ]
  },
  {
   "cell_type": "code",
   "execution_count": null,
   "metadata": {
    "collapsed": true
   },
   "outputs": [],
   "source": []
  }
 ],
 "metadata": {
  "kernelspec": {
   "display_name": "Python 2",
   "language": "python",
   "name": "python2"
  },
  "language_info": {
   "codemirror_mode": {
    "name": "ipython",
    "version": 2
   },
   "file_extension": ".py",
   "mimetype": "text/x-python",
   "name": "python",
   "nbconvert_exporter": "python",
   "pygments_lexer": "ipython2",
   "version": "2.7.13"
  }
 },
 "nbformat": 4,
 "nbformat_minor": 2
}
